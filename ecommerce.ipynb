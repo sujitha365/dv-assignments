{
  "nbformat": 4,
  "nbformat_minor": 0,
  "metadata": {
    "colab": {
      "provenance": [],
      "authorship_tag": "ABX9TyNqFgK0iOX4EMAKc//7RHPe",
      "include_colab_link": true
    },
    "kernelspec": {
      "name": "python3",
      "display_name": "Python 3"
    },
    "language_info": {
      "name": "python"
    }
  },
  "cells": [
    {
      "cell_type": "markdown",
      "metadata": {
        "id": "view-in-github",
        "colab_type": "text"
      },
      "source": [
        "<a href=\"https://colab.research.google.com/github/sujitha365/dv-assignments/blob/main/ecommerce.ipynb\" target=\"_parent\"><img src=\"https://colab.research.google.com/assets/colab-badge.svg\" alt=\"Open In Colab\"/></a>"
      ]
    },
    {
      "cell_type": "code",
      "execution_count": null,
      "metadata": {
        "id": "3HEACK950hBK"
      },
      "outputs": [],
      "source": [
        "import pandas as pd\n",
        "import matplotlib.pyplot as plt\n",
        "from matplotlib.sankey import Sankey\n",
        "\n",
        "# Load the dataset from the CSV file\n",
        "df = pd.read_csv('/kaggle/input/ecommerce/e-commerce.csv')\n",
        "\n",
        "# Aggregate data to count clicks and purchases for each product and category\n",
        "product_click_counts = df[df['action'] == 'click']['product_name'].value_counts()\n",
        "product_purchase_counts = df[df['action'] == 'purchase']['product_name'].value_counts()\n",
        "\n",
        "\n",
        "# Create bar charts for products\n",
        "plt.figure(figsize=(12, 6))\n",
        "plt.subplot(1, 2, 1)\n",
        "product_click_counts.plot(kind='bar', title='Product Click Counts')\n",
        "plt.subplot(1, 2, 2)\n",
        "product_purchase_counts.plot(kind='bar', title='Product Purchase Counts')\n",
        "\n",
        "# Task 2: Analyze User Click Patterns\n",
        "# Create pie charts for categories\n",
        "plt.figure(figsize=(12, 6))\n",
        "plt.subplot(1, 2, 1)\n",
        "product_click_counts.plot(kind='pie', autopct='%1.1f%%', title='Product Click Counts')\n",
        "plt.subplot(1, 2, 2)\n",
        "product_purchase_counts.plot(kind='pie', autopct='%1.1f%%', title='Product Purchase Counts')\n",
        "\n",
        "\n",
        "# Create Sankey diagram\n",
        "fig, ax = plt.subplots()\n",
        "sankey = Sankey(ax=ax, unit=None)\n",
        "sankey.add(flows=[1, 1, -1, -1], labels=['Click', 'Purchase', 'Click', 'Purchase'], orientations=[0, 1, -1, 1], rotation=45)\n",
        "diagrams = sankey.finish()\n",
        "\n",
        "# Display the visualizations\n",
        "plt.tight_layout()\n",
        "plt.show()\n"
      ]
    }
  ]
}